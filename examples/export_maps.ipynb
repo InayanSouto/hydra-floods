{
 "cells": [
  {
   "cell_type": "code",
   "execution_count": null,
   "metadata": {},
   "outputs": [],
   "source": [
    "%pylab inline"
   ]
  },
  {
   "cell_type": "code",
   "execution_count": null,
   "metadata": {},
   "outputs": [],
   "source": [
    "import hydrafloods as hf\n",
    "import datetime\n",
    "import ee\n",
    "from pprint import pprint\n",
    "\n",
    "ee.Initialize()"
   ]
  },
  {
   "cell_type": "code",
   "execution_count": null,
   "metadata": {},
   "outputs": [],
   "source": [
    "geom = ee.Geometry.Rectangle([103.0,10.5,106.0,13.0])"
   ]
  },
  {
   "cell_type": "code",
   "execution_count": null,
   "metadata": {},
   "outputs": [],
   "source": [
    "date = \"2019-02-11\"\n",
    "dt = datetime.datetime.strptime(date,\"%Y-%m-%d\")\n",
    "print(dt)"
   ]
  },
  {
   "cell_type": "code",
   "execution_count": null,
   "metadata": {},
   "outputs": [],
   "source": [
    "previous = (dt + datetime.timedelta(0)).strftime('%Y-%m-%d')\n",
    "tomorrow = (dt + datetime.timedelta(1)).strftime('%Y-%m-%d')"
   ]
  },
  {
   "cell_type": "code",
   "execution_count": null,
   "metadata": {},
   "outputs": [],
   "source": [
    "targetAsset = \"users/kelmarkert/hydra_research/\"\n",
    "\n",
    "hand = ee.Image(\"projects/servir-mekong/SWMT/HAND_MERIT\")"
   ]
  },
  {
   "cell_type": "markdown",
   "metadata": {},
   "source": [
    "## Exporting a Sentinel-1 water map"
   ]
  },
  {
   "cell_type": "code",
   "execution_count": null,
   "metadata": {},
   "outputs": [],
   "source": [
    "# product = \"landsat8\""
   ]
  },
  {
   "cell_type": "code",
   "execution_count": null,
   "metadata": {},
   "outputs": [],
   "source": [
    "product = \"sentinel1\"\n",
    "worker = hf.processing.Sentinel1(geom,date,tomorrow,collectionid='COPERNICUS/S1_GRD')\n",
    "waterImage = worker.waterMap(date,qualityBand=\"VV\",initThresh=-14,reverse=True).And(hand.lt(30))"
   ]
  },
  {
   "cell_type": "code",
   "execution_count": null,
   "metadata": {},
   "outputs": [],
   "source": [
    "waterImage = waterImage.rename('water')\\\n",
    "    .set({'system:time_start':ee.Date(date).millis(),'sensor':product})\n",
    "assetTarget = targetAsset + '{0}_bmaxOtsu_{1}'.format(product,date.replace('-',''))\n"
   ]
  },
  {
   "cell_type": "code",
   "execution_count": null,
   "metadata": {},
   "outputs": [],
   "source": [
    "# set product to export\n",
    "description = '{0}_water_{1}'.format(product,date)\n",
    "hf.geeutils.exportImage(waterImage,geom,assetTarget,description=description,scale=30)\n"
   ]
  },
  {
   "cell_type": "markdown",
   "metadata": {},
   "source": [
    "#### Exporting a Landsat8 water map"
   ]
  },
  {
   "cell_type": "code",
   "execution_count": null,
   "metadata": {},
   "outputs": [],
   "source": [
    "product = \"landsat8\"\n",
    "worker = hf.processing.Landsat(geom,date,tomorrow,collectionid='LANDSAT/LC08/C01/T1_SR')\n",
    "waterImage = worker.waterMap(date,qualityBand=\"mndwi\").And(hand.lt(30))"
   ]
  },
  {
   "cell_type": "code",
   "execution_count": null,
   "metadata": {},
   "outputs": [],
   "source": [
    "waterImage = waterImage.rename('water')\\\n",
    "    .set({'system:time_start':ee.Date(date).millis(),'sensor':product})\n",
    "assetTarget = targetAsset + '{0}_bmaxOtsu_{1}'.format(product,date.replace('-',''))\n"
   ]
  },
  {
   "cell_type": "code",
   "execution_count": null,
   "metadata": {},
   "outputs": [],
   "source": [
    "# set product to export\n",
    "description = '{0}_water_{1}'.format(product,date)\n",
    "hf.geeutils.exportImage(waterImage,geom,assetTarget,description=description,scale=30)"
   ]
  }
 ],
 "metadata": {
  "kernelspec": {
   "display_name": "Python (geo)",
   "language": "python",
   "name": "geo"
  },
  "language_info": {
   "codemirror_mode": {
    "name": "ipython",
    "version": 3
   },
   "file_extension": ".py",
   "mimetype": "text/x-python",
   "name": "python",
   "nbconvert_exporter": "python",
   "pygments_lexer": "ipython3",
   "version": "3.7.3"
  }
 },
 "nbformat": 4,
 "nbformat_minor": 4
}
