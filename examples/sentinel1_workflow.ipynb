{
 "cells": [
  {
   "cell_type": "code",
   "execution_count": 1,
   "metadata": {},
   "outputs": [],
   "source": [
    "import datetime\n",
    "import ee\n",
    "import hydrafloods as hf\n",
    "\n",
    "ee.Initialize()\n"
   ]
  },
  {
   "cell_type": "code",
   "execution_count": 2,
   "metadata": {},
   "outputs": [],
   "source": [
    "from IPython.display import Image"
   ]
  },
  {
   "cell_type": "markdown",
   "metadata": {},
   "source": [
    "## Setting up a process"
   ]
  },
  {
   "cell_type": "code",
   "execution_count": 3,
   "metadata": {},
   "outputs": [],
   "source": [
    "# define region\n",
    "region = ee.Geometry.Point(105,12).buffer(25000).bounds()"
   ]
  },
  {
   "cell_type": "code",
   "execution_count": 4,
   "metadata": {},
   "outputs": [],
   "source": [
    "# define time period\n",
    "startTime = datetime.datetime(2019,9,15)\n",
    "endTime = startTime + datetime.timedelta(5)"
   ]
  },
  {
   "cell_type": "code",
   "execution_count": 5,
   "metadata": {},
   "outputs": [
    {
     "data": {
      "text/plain": [
       "HYDRAFloods Collection:\n",
       "{'assetid': 'COPERNICUS/S1_GRD',\n",
       " 'endTime': '2019-09-20',\n",
       " 'name': 'Sentinel1',\n",
       " 'region': [[[...], [...], [...], [...], [...]]],\n",
       " 'startTime': '2019-09-15'}"
      ]
     },
     "execution_count": 5,
     "metadata": {},
     "output_type": "execute_result"
    }
   ],
   "source": [
    "# get a collection of images based on region and time\n",
    "s1 = hf.collection.Sentinel1(region,startTime,endTime)\n",
    "\n",
    "s1"
   ]
  },
  {
   "cell_type": "code",
   "execution_count": 6,
   "metadata": {},
   "outputs": [
    {
     "name": "stdout",
     "output_type": "stream",
     "text": [
      "Number of images: 3\n"
     ]
    }
   ],
   "source": [
    "print(f\"Number of images: {s1.nImages}\")"
   ]
  },
  {
   "cell_type": "markdown",
   "metadata": {},
   "source": [
    "Here is a little code to display the first image in the collection to visualize what is happening."
   ]
  },
  {
   "cell_type": "code",
   "execution_count": 7,
   "metadata": {},
   "outputs": [
    {
     "data": {
      "text/html": [
       "<img src=\"https://earthengine.googleapis.com/v1alpha/projects/earthengine-legacy/thumbnails/fff8d8efcc9fc7b0ef86419eabf7139c-2f29f26ba99d9f6421487572a79ce727:getPixels\"/>"
      ],
      "text/plain": [
       "<IPython.core.display.Image object>"
      ]
     },
     "execution_count": 7,
     "metadata": {},
     "output_type": "execute_result"
    }
   ],
   "source": [
    "# reduce the collection to mean values (mosaic), then get a thumbnail view\n",
    "thumbnail = ee.Image(s1.collection.first()).getThumbUrl({'region':region,'min':-25,'max':0,'bands':'VV','format':'png','dimensions':512})\n",
    "# display result\n",
    "Image(url = thumbnail)"
   ]
  },
  {
   "cell_type": "markdown",
   "metadata": {},
   "source": [
    "## Apply some preprocessing\n",
    "In this case, we will apply a speckle filter on all of the images."
   ]
  },
  {
   "cell_type": "code",
   "execution_count": 8,
   "metadata": {},
   "outputs": [],
   "source": [
    "# apply the refined lee speckle filter\n",
    "filtered = s1.apply(hf.filtering.refinedLee)"
   ]
  },
  {
   "cell_type": "code",
   "execution_count": 9,
   "metadata": {},
   "outputs": [
    {
     "data": {
      "text/html": [
       "<img src=\"https://earthengine.googleapis.com/v1alpha/projects/earthengine-legacy/thumbnails/053e5e10de08b08cdb92faac5b3ba21f-e4901bc901e1eb10516f27564caa65a0:getPixels\"/>"
      ],
      "text/plain": [
       "<IPython.core.display.Image object>"
      ]
     },
     "execution_count": 9,
     "metadata": {},
     "output_type": "execute_result"
    }
   ],
   "source": [
    "# get the filtered collection for display\n",
    "thumbnail = ee.Image(filtered.collection.first()).getThumbUrl({'region':region,'min':-25,'max':0,'bands':'VV','format':'png','dimensions':512})\n",
    "Image(url = thumbnail)"
   ]
  },
  {
   "cell_type": "markdown",
   "metadata": {},
   "source": [
    "## Apply a water mapping algorithm"
   ]
  },
  {
   "cell_type": "code",
   "execution_count": 10,
   "metadata": {},
   "outputs": [],
   "source": [
    "# apply a water thresholding algorithm to the collection\n",
    "water = filtered.apply(hf.thresholding.bmaxOtsu,initialThreshold=-16)"
   ]
  },
  {
   "cell_type": "code",
   "execution_count": 11,
   "metadata": {},
   "outputs": [
    {
     "data": {
      "text/html": [
       "<img src=\"https://earthengine.googleapis.com/v1alpha/projects/earthengine-legacy/thumbnails/21cb06b42aabf651838700100d14c868-06ee896991e3b00ab4e712f286b04d3d:getPixels\"/>"
      ],
      "text/plain": [
       "<IPython.core.display.Image object>"
      ]
     },
     "execution_count": 11,
     "metadata": {},
     "output_type": "execute_result"
    }
   ],
   "source": [
    "# view results\n",
    "thumbnail = ee.Image(water.collection.first()).getThumbUrl({'min':0,'max':1,'palette':'lightgray,darkblue','region':region,'dimensions':512})\n",
    "Image(url = thumbnail)"
   ]
  },
  {
   "cell_type": "markdown",
   "metadata": {},
   "source": [
    "### Export the results"
   ]
  },
  {
   "cell_type": "code",
   "execution_count": 12,
   "metadata": {},
   "outputs": [
    {
     "name": "stdout",
     "output_type": "stream",
     "text": [
      "running export for Sentinel1_20190917_bmax\n",
      "running export for Sentinel1_20190916_bmax\n",
      "running export for Sentinel1_20190915_bmax\n"
     ]
    }
   ],
   "source": [
    "hf.geeutils.batchExport(water.collection,'users/kelmarkert/hydrafloods_examples',\n",
    "                        prefix='Sentinel1',suffix='bmax',scale=10,\n",
    "                        metadata={'sensor':'sentinel1','algorithm':'bmax'},\n",
    "                        pyramiding={'.default':'mode'},\n",
    "                        verbose=True)"
   ]
  },
  {
   "cell_type": "code",
   "execution_count": 13,
   "metadata": {},
   "outputs": [
    {
     "data": {
      "text/plain": [
       "[<Task EXPORT_IMAGE: Sentinel1_20190915_bmax (READY)>,\n",
       " <Task EXPORT_IMAGE: Sentinel1_20190916_bmax (READY)>,\n",
       " <Task EXPORT_IMAGE: Sentinel1_20190917_bmax (RUNNING)>]"
      ]
     },
     "execution_count": 13,
     "metadata": {},
     "output_type": "execute_result"
    }
   ],
   "source": [
    "ee.batch.Task.list()[:water.nImages]"
   ]
  }
 ],
 "metadata": {
  "kernelspec": {
   "display_name": "Python (HYDRA)",
   "language": "python",
   "name": "hydra-env"
  },
  "language_info": {
   "codemirror_mode": {
    "name": "ipython",
    "version": 3
   },
   "file_extension": ".py",
   "mimetype": "text/x-python",
   "name": "python",
   "nbconvert_exporter": "python",
   "pygments_lexer": "ipython3",
   "version": "3.6.10"
  }
 },
 "nbformat": 4,
 "nbformat_minor": 4
}
