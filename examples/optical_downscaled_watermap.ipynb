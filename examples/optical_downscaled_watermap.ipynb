{
 "cells": [
  {
   "cell_type": "code",
   "execution_count": 1,
   "metadata": {},
   "outputs": [],
   "source": [
    "import datetime\n",
    "import ee\n",
    "import hydrafloods as hf\n",
    "\n",
    "ee.Initialize()"
   ]
  },
  {
   "cell_type": "code",
   "execution_count": 2,
   "metadata": {},
   "outputs": [],
   "source": [
    "from IPython.display import Image"
   ]
  },
  {
   "cell_type": "code",
   "execution_count": 7,
   "metadata": {},
   "outputs": [],
   "source": [
    "# define region\n",
    "region = ee.Geometry.Point(105,12).buffer(100000).bounds(maxError=1)\n",
    "# define time period\n",
    "startTime = datetime.datetime(2019,1,1)\n",
    "endTime = startTime + datetime.timedelta(31)"
   ]
  },
  {
   "cell_type": "code",
   "execution_count": 8,
   "metadata": {},
   "outputs": [],
   "source": [
    "viirs = hf.collection.Viirs(region,startTime,endTime)"
   ]
  },
  {
   "cell_type": "code",
   "execution_count": 9,
   "metadata": {},
   "outputs": [
    {
     "name": "stdout",
     "output_type": "stream",
     "text": [
      "Number of images: 32\n"
     ]
    }
   ],
   "source": [
    "print(f\"Number of images: {viirs.nImages}\")"
   ]
  },
  {
   "cell_type": "code",
   "execution_count": 10,
   "metadata": {},
   "outputs": [
    {
     "data": {
      "text/html": [
       "<img src=\"https://earthengine.googleapis.com/v1alpha/projects/earthengine-legacy/thumbnails/8b68220a49cad39358d3e008274d1ece-7ffa5838b568c19f568acbfb81e060b2:getPixels\"/>"
      ],
      "text/plain": [
       "<IPython.core.display.Image object>"
      ]
     },
     "execution_count": 10,
     "metadata": {},
     "output_type": "execute_result"
    }
   ],
   "source": [
    "thumbnail = ee.Image(viirs.collection.sort('system:time_start',False).first()).getThumbUrl(\n",
    "    {'region':region,'min':50,'max':5500,'bands':'swir2,nir,green','gamma':1.5,\n",
    "     'format':'png','dimensions':512,'crs':'epsg:4326'}\n",
    ")\n",
    "# display result\n",
    "Image(url = thumbnail)"
   ]
  },
  {
   "cell_type": "code",
   "execution_count": 11,
   "metadata": {},
   "outputs": [],
   "source": [
    "landsat = hf.collection.Landsat8(region,startTime,endTime)"
   ]
  },
  {
   "cell_type": "code",
   "execution_count": 12,
   "metadata": {},
   "outputs": [
    {
     "name": "stdout",
     "output_type": "stream",
     "text": [
      "15\n"
     ]
    }
   ],
   "source": [
    "print(landsat.nImages)"
   ]
  },
  {
   "cell_type": "code",
   "execution_count": 13,
   "metadata": {},
   "outputs": [
    {
     "data": {
      "text/html": [
       "<img src=\"https://earthengine.googleapis.com/v1alpha/projects/earthengine-legacy/thumbnails/3c6bbc3d79f5ce4575773d1b9b80b042-8a912ab96a62fb453078f57eef2040ae:getPixels\"/>"
      ],
      "text/plain": [
       "<IPython.core.display.Image object>"
      ]
     },
     "execution_count": 13,
     "metadata": {},
     "output_type": "execute_result"
    }
   ],
   "source": [
    "thumbnail = ee.Image(landsat.collection.mean()).getThumbUrl(\n",
    "    {'region':region,'min':50,'max':5500,'bands':'swir2,nir,green','gamma':1.5,\n",
    "     'format':'png','dimensions':512,'crs':'epsg:4326'}\n",
    ")\n",
    "# display result\n",
    "Image(url = thumbnail)"
   ]
  },
  {
   "cell_type": "code",
   "execution_count": 14,
   "metadata": {},
   "outputs": [],
   "source": [
    "fused = viirs.apply(hf.fusion.starfm,fineCollection=landsat,targetDate=endTime.strftime('%Y-%m-%d'))"
   ]
  },
  {
   "cell_type": "code",
   "execution_count": 15,
   "metadata": {},
   "outputs": [
    {
     "data": {
      "text/plain": [
       "6"
      ]
     },
     "execution_count": 15,
     "metadata": {},
     "output_type": "execute_result"
    }
   ],
   "source": [
    "fused.nImages"
   ]
  },
  {
   "cell_type": "code",
   "execution_count": 16,
   "metadata": {},
   "outputs": [
    {
     "data": {
      "text/html": [
       "<img src=\"https://earthengine.googleapis.com/v1alpha/projects/earthengine-legacy/thumbnails/3946ce4d0a5e05246fed28faea6879de-a51b2e1fa732211ac4f629496417c47e:getPixels\"/>"
      ],
      "text/plain": [
       "<IPython.core.display.Image object>"
      ]
     },
     "execution_count": 16,
     "metadata": {},
     "output_type": "execute_result"
    }
   ],
   "source": [
    "thumbnail = ee.Image(fused.collection.sort('system:time_start',False).first()).getThumbUrl(\n",
    "    {'region':region,'min':50,'max':5500,'bands':'swir2,nir,green','gamma':1.5,\n",
    "     'format':'png','dimensions':512,'crs':'epsg:4326'}\n",
    ")\n",
    "# display result\n",
    "Image(url = thumbnail)"
   ]
  },
  {
   "cell_type": "code",
   "execution_count": 17,
   "metadata": {},
   "outputs": [],
   "source": [
    "downscaledWater = fused.apply(hf.thresholding.bmaxOtsu,initialThreshold=-16,band='mndwi')\n"
   ]
  },
  {
   "cell_type": "markdown",
   "metadata": {},
   "source": [
    "Not going to try to display results as it will end with a `Computation timed out.`"
   ]
  },
  {
   "cell_type": "code",
   "execution_count": 19,
   "metadata": {},
   "outputs": [
    {
     "name": "stdout",
     "output_type": "stream",
     "text": [
      "running export for viirs_fused_20190201_bmax\n",
      "running export for viirs_fused_20190131_bmax\n",
      "running export for viirs_fused_20190130_bmax\n",
      "running export for viirs_fused_20190129_bmax\n",
      "running export for viirs_fused_20190128_bmax\n",
      "running export for viirs_fused_20190127_bmax\n"
     ]
    }
   ],
   "source": [
    "hf.geeutils.batchExport(downscaledWater.collection,'users/kelmarkert/hydrafloods_examples',\n",
    "                        prefix='viirs_fused',suffix='bmax',scale=10,\n",
    "                        metadata={'sensor':'viirs_fused','algorithm':'bmax'},\n",
    "                        pyramiding={'.default':'mode'},\n",
    "                        verbose=True)"
   ]
  },
  {
   "cell_type": "code",
   "execution_count": 21,
   "metadata": {},
   "outputs": [
    {
     "data": {
      "text/plain": [
       "[<Task EXPORT_IMAGE: viirs_fused_20190127_bmax (READY)>,\n",
       " <Task EXPORT_IMAGE: viirs_fused_20190128_bmax (READY)>,\n",
       " <Task EXPORT_IMAGE: viirs_fused_20190129_bmax (READY)>,\n",
       " <Task EXPORT_IMAGE: viirs_fused_20190130_bmax (READY)>,\n",
       " <Task EXPORT_IMAGE: viirs_fused_20190131_bmax (READY)>,\n",
       " <Task EXPORT_IMAGE: viirs_fused_20190201_bmax (RUNNING)>]"
      ]
     },
     "execution_count": 21,
     "metadata": {},
     "output_type": "execute_result"
    }
   ],
   "source": [
    "ee.batch.Task.list()[:downscaledWater.nImages]"
   ]
  },
  {
   "cell_type": "code",
   "execution_count": null,
   "metadata": {},
   "outputs": [],
   "source": []
  }
 ],
 "metadata": {
  "kernelspec": {
   "display_name": "Python (HYDRA)",
   "language": "python",
   "name": "hydra-env"
  },
  "language_info": {
   "codemirror_mode": {
    "name": "ipython",
    "version": 3
   },
   "file_extension": ".py",
   "mimetype": "text/x-python",
   "name": "python",
   "nbconvert_exporter": "python",
   "pygments_lexer": "ipython3",
   "version": "3.6.10"
  }
 },
 "nbformat": 4,
 "nbformat_minor": 4
}
